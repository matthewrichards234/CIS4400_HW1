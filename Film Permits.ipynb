{
 "cells": [
  {
   "cell_type": "code",
   "execution_count": 2,
   "id": "2898a3fb",
   "metadata": {},
   "outputs": [],
   "source": [
    "import pandas as pd"
   ]
  },
  {
   "cell_type": "code",
   "execution_count": 4,
   "id": "27091e2d",
   "metadata": {},
   "outputs": [],
   "source": [
    "df = pd.read_csv('/Users/matthewrichards/Desktop/Homework Fall 24/CIS4400 HW1/Film_Permits_20241102.csv')"
   ]
  },
  {
   "cell_type": "code",
   "execution_count": 5,
   "id": "d5484d6e",
   "metadata": {},
   "outputs": [
    {
     "data": {
      "text/html": [
       "<div>\n",
       "<style scoped>\n",
       "    .dataframe tbody tr th:only-of-type {\n",
       "        vertical-align: middle;\n",
       "    }\n",
       "\n",
       "    .dataframe tbody tr th {\n",
       "        vertical-align: top;\n",
       "    }\n",
       "\n",
       "    .dataframe thead th {\n",
       "        text-align: right;\n",
       "    }\n",
       "</style>\n",
       "<table border=\"1\" class=\"dataframe\">\n",
       "  <thead>\n",
       "    <tr style=\"text-align: right;\">\n",
       "      <th></th>\n",
       "      <th>EventID</th>\n",
       "      <th>EventType</th>\n",
       "      <th>StartDateTime</th>\n",
       "      <th>EndDateTime</th>\n",
       "      <th>EnteredOn</th>\n",
       "      <th>EventAgency</th>\n",
       "      <th>ParkingHeld</th>\n",
       "      <th>Borough</th>\n",
       "      <th>CommunityBoard(s)</th>\n",
       "      <th>PolicePrecinct(s)</th>\n",
       "      <th>Category</th>\n",
       "      <th>SubCategoryName</th>\n",
       "      <th>Country</th>\n",
       "      <th>ZipCode(s)</th>\n",
       "    </tr>\n",
       "  </thead>\n",
       "  <tbody>\n",
       "    <tr>\n",
       "      <th>0</th>\n",
       "      <td>696255</td>\n",
       "      <td>Shooting Permit</td>\n",
       "      <td>02/17/2023 09:00:00 AM</td>\n",
       "      <td>02/18/2023 12:00:00 PM</td>\n",
       "      <td>02/14/2023 10:47:33 PM</td>\n",
       "      <td>Mayor's Office of Media &amp; Entertainment</td>\n",
       "      <td>KINGSLAND AVENUE between DEAD END and GREENPOI...</td>\n",
       "      <td>Brooklyn</td>\n",
       "      <td>1</td>\n",
       "      <td>94</td>\n",
       "      <td>Television</td>\n",
       "      <td>Cable-episodic</td>\n",
       "      <td>United States of America</td>\n",
       "      <td>11222</td>\n",
       "    </tr>\n",
       "    <tr>\n",
       "      <th>1</th>\n",
       "      <td>714139</td>\n",
       "      <td>Shooting Permit</td>\n",
       "      <td>05/12/2023 01:00:00 PM</td>\n",
       "      <td>05/13/2023 05:00:00 AM</td>\n",
       "      <td>05/04/2023 02:27:51 PM</td>\n",
       "      <td>Mayor's Office of Media &amp; Entertainment</td>\n",
       "      <td>WEST   26 STREET between 12 AVENUE and 11 AVEN...</td>\n",
       "      <td>Manhattan</td>\n",
       "      <td>4</td>\n",
       "      <td>10</td>\n",
       "      <td>Television</td>\n",
       "      <td>Episodic series</td>\n",
       "      <td>United States of America</td>\n",
       "      <td>10001</td>\n",
       "    </tr>\n",
       "    <tr>\n",
       "      <th>2</th>\n",
       "      <td>705334</td>\n",
       "      <td>Shooting Permit</td>\n",
       "      <td>04/10/2023 09:00:00 AM</td>\n",
       "      <td>04/10/2023 10:00:00 PM</td>\n",
       "      <td>03/30/2023 05:17:29 PM</td>\n",
       "      <td>Mayor's Office of Media &amp; Entertainment</td>\n",
       "      <td>SOUTH STREET between BROAD STREET and OLD SLIP...</td>\n",
       "      <td>Manhattan</td>\n",
       "      <td>1, 3</td>\n",
       "      <td>1, 5</td>\n",
       "      <td>Film</td>\n",
       "      <td>Feature</td>\n",
       "      <td>United States of America</td>\n",
       "      <td>10002, 10004, 10005</td>\n",
       "    </tr>\n",
       "    <tr>\n",
       "      <th>3</th>\n",
       "      <td>746696</td>\n",
       "      <td>Shooting Permit</td>\n",
       "      <td>11/07/2023 06:00:00 AM</td>\n",
       "      <td>11/07/2023 10:00:00 PM</td>\n",
       "      <td>10/31/2023 12:08:00 PM</td>\n",
       "      <td>Mayor's Office of Media &amp; Entertainment</td>\n",
       "      <td>NORTH HENRY STREET between GREENPOINT AVENUE a...</td>\n",
       "      <td>Brooklyn</td>\n",
       "      <td>1</td>\n",
       "      <td>94</td>\n",
       "      <td>Commercial</td>\n",
       "      <td>Commercial</td>\n",
       "      <td>United States of America</td>\n",
       "      <td>11222</td>\n",
       "    </tr>\n",
       "    <tr>\n",
       "      <th>4</th>\n",
       "      <td>717328</td>\n",
       "      <td>Theater Load in and Load Outs</td>\n",
       "      <td>05/31/2023 12:01:00 AM</td>\n",
       "      <td>06/01/2023 06:00:00 AM</td>\n",
       "      <td>05/17/2023 11:55:51 AM</td>\n",
       "      <td>Mayor's Office of Media &amp; Entertainment</td>\n",
       "      <td>WEST   55 STREET between 11 AVENUE and 12 AVEN...</td>\n",
       "      <td>Manhattan</td>\n",
       "      <td>4</td>\n",
       "      <td>18</td>\n",
       "      <td>Theater</td>\n",
       "      <td>Theater</td>\n",
       "      <td>United States of America</td>\n",
       "      <td>10019</td>\n",
       "    </tr>\n",
       "  </tbody>\n",
       "</table>\n",
       "</div>"
      ],
      "text/plain": [
       "   EventID                      EventType           StartDateTime  \\\n",
       "0   696255                Shooting Permit  02/17/2023 09:00:00 AM   \n",
       "1   714139                Shooting Permit  05/12/2023 01:00:00 PM   \n",
       "2   705334                Shooting Permit  04/10/2023 09:00:00 AM   \n",
       "3   746696                Shooting Permit  11/07/2023 06:00:00 AM   \n",
       "4   717328  Theater Load in and Load Outs  05/31/2023 12:01:00 AM   \n",
       "\n",
       "              EndDateTime               EnteredOn  \\\n",
       "0  02/18/2023 12:00:00 PM  02/14/2023 10:47:33 PM   \n",
       "1  05/13/2023 05:00:00 AM  05/04/2023 02:27:51 PM   \n",
       "2  04/10/2023 10:00:00 PM  03/30/2023 05:17:29 PM   \n",
       "3  11/07/2023 10:00:00 PM  10/31/2023 12:08:00 PM   \n",
       "4  06/01/2023 06:00:00 AM  05/17/2023 11:55:51 AM   \n",
       "\n",
       "                               EventAgency  \\\n",
       "0  Mayor's Office of Media & Entertainment   \n",
       "1  Mayor's Office of Media & Entertainment   \n",
       "2  Mayor's Office of Media & Entertainment   \n",
       "3  Mayor's Office of Media & Entertainment   \n",
       "4  Mayor's Office of Media & Entertainment   \n",
       "\n",
       "                                         ParkingHeld    Borough  \\\n",
       "0  KINGSLAND AVENUE between DEAD END and GREENPOI...   Brooklyn   \n",
       "1  WEST   26 STREET between 12 AVENUE and 11 AVEN...  Manhattan   \n",
       "2  SOUTH STREET between BROAD STREET and OLD SLIP...  Manhattan   \n",
       "3  NORTH HENRY STREET between GREENPOINT AVENUE a...   Brooklyn   \n",
       "4  WEST   55 STREET between 11 AVENUE and 12 AVEN...  Manhattan   \n",
       "\n",
       "  CommunityBoard(s) PolicePrecinct(s)    Category  SubCategoryName  \\\n",
       "0                 1                94  Television   Cable-episodic   \n",
       "1                 4                10  Television  Episodic series   \n",
       "2              1, 3              1, 5        Film          Feature   \n",
       "3                 1                94  Commercial       Commercial   \n",
       "4                 4                18     Theater          Theater   \n",
       "\n",
       "                    Country           ZipCode(s)  \n",
       "0  United States of America                11222  \n",
       "1  United States of America                10001  \n",
       "2  United States of America  10002, 10004, 10005  \n",
       "3  United States of America                11222  \n",
       "4  United States of America                10019  "
      ]
     },
     "execution_count": 5,
     "metadata": {},
     "output_type": "execute_result"
    }
   ],
   "source": [
    "df.head()"
   ]
  },
  {
   "cell_type": "code",
   "execution_count": 6,
   "id": "dedfd7b7",
   "metadata": {},
   "outputs": [
    {
     "data": {
      "text/plain": [
       "(8500, 14)"
      ]
     },
     "execution_count": 6,
     "metadata": {},
     "output_type": "execute_result"
    }
   ],
   "source": [
    "df.shape"
   ]
  },
  {
   "cell_type": "code",
   "execution_count": 9,
   "id": "8461a482",
   "metadata": {},
   "outputs": [
    {
     "name": "stdout",
     "output_type": "stream",
     "text": [
      "EventID\n",
      "EventType\n",
      "StartDateTime\n",
      "EndDateTime\n",
      "EnteredOn\n",
      "EventAgency\n",
      "ParkingHeld\n",
      "Borough\n",
      "CommunityBoard(s)\n",
      "PolicePrecinct(s)\n",
      "Category\n",
      "SubCategoryName\n",
      "Country\n",
      "ZipCode(s)\n"
     ]
    }
   ],
   "source": [
    "for col in df.columns:\n",
    "    print(col)"
   ]
  },
  {
   "cell_type": "code",
   "execution_count": null,
   "id": "3ac6564f",
   "metadata": {},
   "outputs": [],
   "source": []
  }
 ],
 "metadata": {
  "kernelspec": {
   "display_name": "Python 3 (ipykernel)",
   "language": "python",
   "name": "python3"
  },
  "language_info": {
   "codemirror_mode": {
    "name": "ipython",
    "version": 3
   },
   "file_extension": ".py",
   "mimetype": "text/x-python",
   "name": "python",
   "nbconvert_exporter": "python",
   "pygments_lexer": "ipython3",
   "version": "3.9.12"
  }
 },
 "nbformat": 4,
 "nbformat_minor": 5
}
